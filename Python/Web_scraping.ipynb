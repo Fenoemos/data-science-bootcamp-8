{
  "cells": [
    {
      "cell_type": "markdown",
      "metadata": {
        "id": "view-in-github",
        "colab_type": "text"
      },
      "source": [
        "<a href=\"https://colab.research.google.com/github/Fenoemos/data-science-bootcamp-8/blob/main/Web_scraping.ipynb\" target=\"_parent\"><img src=\"https://colab.research.google.com/assets/colab-badge.svg\" alt=\"Open In Colab\"/></a>"
      ]
    },
    {
      "cell_type": "markdown",
      "metadata": {
        "id": "deL0t4t8A2KQ"
      },
      "source": [
        "# Web scraping to get data and clean it to create dataframe\n",
        "## Data from IMDb"
      ]
    },
    {
      "cell_type": "code",
      "execution_count": null,
      "metadata": {
        "colab": {
          "base_uri": "https://localhost:8080/"
        },
        "id": "07nox-0oA9XO",
        "outputId": "8e7ba0cd-de99-4440-fd8d-817049bfb8ec"
      },
      "outputs": [
        {
          "name": "stdout",
          "output_type": "stream",
          "text": [
            "Collecting gazpacho\n",
            "  Downloading gazpacho-1.1.tar.gz (7.9 kB)\n",
            "  Installing build dependencies ... \u001b[?25l\u001b[?25hdone\n",
            "  Getting requirements to build wheel ... \u001b[?25l\u001b[?25hdone\n",
            "  Preparing metadata (pyproject.toml) ... \u001b[?25l\u001b[?25hdone\n",
            "Building wheels for collected packages: gazpacho\n",
            "  Building wheel for gazpacho (pyproject.toml) ... \u001b[?25l\u001b[?25hdone\n",
            "  Created wheel for gazpacho: filename=gazpacho-1.1-py3-none-any.whl size=7461 sha256=cf143321d63ece180cb55001d2534f3e093db343f3d116d95ea094438a7dabb4\n",
            "  Stored in directory: /root/.cache/pip/wheels/9b/bf/9f/8c8849499462415fa5cdf0d9edb1103c189bdbece90c51488e\n",
            "Successfully built gazpacho\n",
            "Installing collected packages: gazpacho\n",
            "Successfully installed gazpacho-1.1\n"
          ]
        }
      ],
      "source": [
        "# install new library on google colab\n",
        "!pip install gazpacho"
      ]
    },
    {
      "cell_type": "code",
      "execution_count": null,
      "metadata": {
        "id": "tf2Z7MmLF6NF"
      },
      "outputs": [],
      "source": [
        "# import function (from gazpacho and requests)\n",
        "from gazpacho import Soup\n",
        "import requests"
      ]
    },
    {
      "cell_type": "code",
      "execution_count": null,
      "metadata": {
        "id": "r6WXkDcCGPcz",
        "colab": {
          "base_uri": "https://localhost:8080/"
        },
        "outputId": "f35a2916-2fcb-4fdb-a582-6308f202ba22"
      },
      "outputs": [
        {
          "output_type": "execute_result",
          "data": {
            "text/plain": [
              "200"
            ]
          },
          "metadata": {},
          "execution_count": 14
        }
      ],
      "source": [
        "# IMDb site will be used as an example\n",
        "url = \"https://www.imdb.com/search/title/?groups=top_100&sort=user_rating,desc\"\n",
        "\n",
        "# get a request to url and store it as html\n",
        "html = requests.get(url)\n",
        "\n",
        "# check status (if 200, Okay)\n",
        "html.status_code"
      ]
    },
    {
      "cell_type": "code",
      "source": [
        "# use Soup to manage html site\n",
        "imdb = Soup(html.text) # Now, imdb is Soup object."
      ],
      "metadata": {
        "id": "X-14hRswIwm4"
      },
      "execution_count": null,
      "outputs": []
    },
    {
      "cell_type": "markdown",
      "source": [
        "### Get movie titles"
      ],
      "metadata": {
        "id": "fqNiyUShKJuX"
      }
    },
    {
      "cell_type": "code",
      "execution_count": null,
      "metadata": {
        "id": "AOkxNhQSHJA5"
      },
      "outputs": [],
      "source": [
        "# explore by using 'Inspect\" and find wanted elements\n",
        "# then, use .find to get that\n",
        "titles = imdb.find(\"h3\", {\"class\": \"lister-item-header\"}) # to get movie name from web scraping"
      ]
    },
    {
      "cell_type": "code",
      "source": [
        "# try to print first title to explore, if it need to be clean or not.\n",
        "titles[0]\n"
      ],
      "metadata": {
        "colab": {
          "base_uri": "https://localhost:8080/"
        },
        "id": "XP6ACk2NJR76",
        "outputId": "af5e1bbf-9bd4-4c95-fa0c-b77febb1848d"
      },
      "execution_count": null,
      "outputs": [
        {
          "output_type": "execute_result",
          "data": {
            "text/plain": [
              "<h3 class=\"lister-item-header\">\n",
              "  <span class=\"lister-item-index unbold text-primary\">1.</span>\n",
              "  <a href=\"/title/tt0111161/\">The Shawshank Redemption</a>\n",
              "  <span class=\"lister-item-year text-muted unbold\">(1994)</span>\n",
              "</h3>"
            ]
          },
          "metadata": {},
          "execution_count": 18
        }
      ]
    },
    {
      "cell_type": "code",
      "source": [
        "# For loop to clean data\n",
        "\n",
        "clean_titles = []\n",
        "\n",
        "for title in titles:\n",
        "    clean_titles.append(title.strip()) # .strip() use to remove html element"
      ],
      "metadata": {
        "id": "RAoe6or-Jqac"
      },
      "execution_count": null,
      "outputs": []
    },
    {
      "cell_type": "code",
      "source": [
        "clean_titles"
      ],
      "metadata": {
        "colab": {
          "base_uri": "https://localhost:8080/"
        },
        "id": "HSwyHpetJ5DG",
        "outputId": "2d5284ed-02af-469e-d40a-7925f833a0f8"
      },
      "execution_count": null,
      "outputs": [
        {
          "output_type": "execute_result",
          "data": {
            "text/plain": [
              "['1. The Shawshank Redemption (1994)',\n",
              " '2. The Godfather (1972)',\n",
              " '3. The Dark Knight (2008)',\n",
              " \"4. Schindler's List (1993)\",\n",
              " '5. The Lord of the Rings: The Return of the King (2003)',\n",
              " '6. 12 Angry Men (1957)',\n",
              " '7. The Godfather Part II (1974)',\n",
              " '8. Pulp Fiction (1994)',\n",
              " '9. Fight Club (1999)',\n",
              " '10. The Lord of the Rings: The Fellowship of the Ring (2001)',\n",
              " '11. Inception (2010)',\n",
              " '12. Forrest Gump (1994)',\n",
              " '13. The Lord of the Rings: The Two Towers (2002)',\n",
              " '14. The Good, the Bad and the Ugly (1966)',\n",
              " '15. Spider-Man: Across the Spider-Verse (2023)',\n",
              " '16. Interstellar (2014)',\n",
              " '17. Goodfellas (1990)',\n",
              " '18. The Matrix (1999)',\n",
              " \"19. One Flew Over the Cuckoo's Nest (1975)\",\n",
              " '20. Star Wars: Episode V - The Empire Strikes Back (1980)',\n",
              " '21. Oppenheimer (2023)',\n",
              " '22. Se7en (1995)',\n",
              " '23. The Silence of the Lambs (1991)',\n",
              " '24. Saving Private Ryan (1998)',\n",
              " '25. Star Wars: Episode IV - A New Hope (1977)',\n",
              " '26. The Green Mile (1999)',\n",
              " '27. Spirited Away (2001)',\n",
              " '28. Terminator 2: Judgment Day (1991)',\n",
              " '29. City of God (2002)',\n",
              " '30. Life Is Beautiful (1997)',\n",
              " \"31. It's a Wonderful Life (1946)\",\n",
              " '32. Seven Samurai (1954)',\n",
              " '33. Harakiri (1962)',\n",
              " '34. Gladiator (2000)',\n",
              " '35. The Departed (2006)',\n",
              " '36. Alien (1979)',\n",
              " '37. Parasite (2019)',\n",
              " '38. The Prestige (2006)',\n",
              " '39. Back to the Future (1985)',\n",
              " '40. Whiplash (2014)',\n",
              " '41. Psycho (1960)',\n",
              " '42. Léon: The Professional (1994)',\n",
              " '43. Django Unchained (2012)',\n",
              " '44. The Usual Suspects (1995)',\n",
              " '45. The Lion King (1994)',\n",
              " '46. The Pianist (2002)',\n",
              " '47. American History X (1998)',\n",
              " '48. Casablanca (1942)',\n",
              " '49. Cinema Paradiso (1988)',\n",
              " '50. The Intouchables (2011)']"
            ]
          },
          "metadata": {},
          "execution_count": 20
        }
      ]
    },
    {
      "cell_type": "markdown",
      "source": [
        "### Get rating"
      ],
      "metadata": {
        "id": "xf0uhWB0KVRH"
      }
    },
    {
      "cell_type": "code",
      "source": [
        "# Rating are stored in \"div\" with \"class\": \"ratings-imdb-rating\"\n",
        "ratings = imdb.find(\"div\", {\"class\": \"ratings-imdb-rating\"})\n",
        "\n",
        "# try to print first title to explore, if it need to be clean or not.\n",
        "print(ratings[0])\n",
        "# it still includes html element"
      ],
      "metadata": {
        "colab": {
          "base_uri": "https://localhost:8080/"
        },
        "id": "VQjrq6HiKXqZ",
        "outputId": "f32217c1-9dec-4c4f-9b09-3bc09d8337fe"
      },
      "execution_count": null,
      "outputs": [
        {
          "output_type": "stream",
          "name": "stdout",
          "text": [
            "<div class=\"inline-block ratings-imdb-rating\" name=\"ir\" data-value=\"9.3\">\n",
            "  <span class=\"global-sprite rating-star imdb-rating\"/>\n",
            "  <strong>9.3</strong>\n",
            "</div>\n"
          ]
        }
      ]
    },
    {
      "cell_type": "code",
      "source": [
        "# For loop to clean data\n",
        "\n",
        "clean_ratings = []\n",
        "\n",
        "for rating in ratings:\n",
        "    clean_ratings.append(float(rating.strip())) # .strip() use to remove html element"
      ],
      "metadata": {
        "id": "72Pcs9N2KxUq"
      },
      "execution_count": null,
      "outputs": []
    },
    {
      "cell_type": "code",
      "source": [
        "clean_ratings"
      ],
      "metadata": {
        "colab": {
          "base_uri": "https://localhost:8080/"
        },
        "id": "ZFZoYRMXLGUB",
        "outputId": "299697c9-046a-47ad-8d37-414a432c25f3"
      },
      "execution_count": null,
      "outputs": [
        {
          "output_type": "execute_result",
          "data": {
            "text/plain": [
              "[9.3,\n",
              " 9.2,\n",
              " 9.0,\n",
              " 9.0,\n",
              " 9.0,\n",
              " 9.0,\n",
              " 9.0,\n",
              " 8.9,\n",
              " 8.8,\n",
              " 8.8,\n",
              " 8.8,\n",
              " 8.8,\n",
              " 8.8,\n",
              " 8.8,\n",
              " 8.7,\n",
              " 8.7,\n",
              " 8.7,\n",
              " 8.7,\n",
              " 8.7,\n",
              " 8.7,\n",
              " 8.6,\n",
              " 8.6,\n",
              " 8.6,\n",
              " 8.6,\n",
              " 8.6,\n",
              " 8.6,\n",
              " 8.6,\n",
              " 8.6,\n",
              " 8.6,\n",
              " 8.6,\n",
              " 8.6,\n",
              " 8.6,\n",
              " 8.6,\n",
              " 8.5,\n",
              " 8.5,\n",
              " 8.5,\n",
              " 8.5,\n",
              " 8.5,\n",
              " 8.5,\n",
              " 8.5,\n",
              " 8.5,\n",
              " 8.5,\n",
              " 8.5,\n",
              " 8.5,\n",
              " 8.5,\n",
              " 8.5,\n",
              " 8.5,\n",
              " 8.5,\n",
              " 8.5,\n",
              " 8.5]"
            ]
          },
          "metadata": {},
          "execution_count": 23
        }
      ]
    },
    {
      "cell_type": "markdown",
      "source": [
        "### Get year"
      ],
      "metadata": {
        "id": "T2kM6WvGLMk3"
      }
    },
    {
      "cell_type": "code",
      "source": [
        "## Already get 'year', but it is with clean_titles\n",
        "# First, get year to clean_years\n",
        "clean_years = []\n",
        "\n",
        "for clean_title in clean_titles:\n",
        "    clean_years.append((clean_title.strip()[-5:-1])) # index -5 mean '(' and index -1 mean ')'\n",
        "\n",
        "clean_years"
      ],
      "metadata": {
        "colab": {
          "base_uri": "https://localhost:8080/"
        },
        "id": "UPe_VbEbLKvZ",
        "outputId": "9938f3e5-3340-4723-97da-b13afb00f723"
      },
      "execution_count": null,
      "outputs": [
        {
          "output_type": "execute_result",
          "data": {
            "text/plain": [
              "['1994',\n",
              " '1972',\n",
              " '2008',\n",
              " '1993',\n",
              " '2003',\n",
              " '1957',\n",
              " '1974',\n",
              " '1994',\n",
              " '1999',\n",
              " '2001',\n",
              " '2010',\n",
              " '1994',\n",
              " '2002',\n",
              " '1966',\n",
              " '2023',\n",
              " '2014',\n",
              " '1990',\n",
              " '1999',\n",
              " '1975',\n",
              " '1980',\n",
              " '2023',\n",
              " '1995',\n",
              " '1991',\n",
              " '1998',\n",
              " '1977',\n",
              " '1999',\n",
              " '2001',\n",
              " '1991',\n",
              " '2002',\n",
              " '1997',\n",
              " '1946',\n",
              " '1954',\n",
              " '1962',\n",
              " '2000',\n",
              " '2006',\n",
              " '1979',\n",
              " '2019',\n",
              " '2006',\n",
              " '1985',\n",
              " '2014',\n",
              " '1960',\n",
              " '1994',\n",
              " '2012',\n",
              " '1995',\n",
              " '1994',\n",
              " '2002',\n",
              " '1998',\n",
              " '1942',\n",
              " '1988',\n",
              " '2011']"
            ]
          },
          "metadata": {},
          "execution_count": 30
        }
      ]
    },
    {
      "cell_type": "code",
      "source": [
        "# Second, remove year from clean_titles\n",
        "clean_titles2 = []\n",
        "\n",
        "for clean_title in clean_titles:\n",
        "    clean_titles2.append((clean_title.strip()[3:-7])) # index -5 mean '(' and index -7 mean 'last white space before ('\n",
        "\n",
        "clean_titles2"
      ],
      "metadata": {
        "colab": {
          "base_uri": "https://localhost:8080/"
        },
        "id": "Va0opKQ0M9JM",
        "outputId": "9af811fd-5754-4b31-e83c-fe8793464980"
      },
      "execution_count": null,
      "outputs": [
        {
          "output_type": "execute_result",
          "data": {
            "text/plain": [
              "['The Shawshank Redemption',\n",
              " 'The Godfather',\n",
              " 'The Dark Knight',\n",
              " \"Schindler's List\",\n",
              " 'The Lord of the Rings: The Return of the King',\n",
              " '12 Angry Men',\n",
              " 'The Godfather Part II',\n",
              " 'Pulp Fiction',\n",
              " 'Fight Club',\n",
              " ' The Lord of the Rings: The Fellowship of the Ring',\n",
              " ' Inception',\n",
              " ' Forrest Gump',\n",
              " ' The Lord of the Rings: The Two Towers',\n",
              " ' The Good, the Bad and the Ugly',\n",
              " ' Spider-Man: Across the Spider-Verse',\n",
              " ' Interstellar',\n",
              " ' Goodfellas',\n",
              " ' The Matrix',\n",
              " \" One Flew Over the Cuckoo's Nest\",\n",
              " ' Star Wars: Episode V - The Empire Strikes Back',\n",
              " ' Oppenheimer',\n",
              " ' Se7en',\n",
              " ' The Silence of the Lambs',\n",
              " ' Saving Private Ryan',\n",
              " ' Star Wars: Episode IV - A New Hope',\n",
              " ' The Green Mile',\n",
              " ' Spirited Away',\n",
              " ' Terminator 2: Judgment Day',\n",
              " ' City of God',\n",
              " ' Life Is Beautiful',\n",
              " \" It's a Wonderful Life\",\n",
              " ' Seven Samurai',\n",
              " ' Harakiri',\n",
              " ' Gladiator',\n",
              " ' The Departed',\n",
              " ' Alien',\n",
              " ' Parasite',\n",
              " ' The Prestige',\n",
              " ' Back to the Future',\n",
              " ' Whiplash',\n",
              " ' Psycho',\n",
              " ' Léon: The Professional',\n",
              " ' Django Unchained',\n",
              " ' The Usual Suspects',\n",
              " ' The Lion King',\n",
              " ' The Pianist',\n",
              " ' American History X',\n",
              " ' Casablanca',\n",
              " ' Cinema Paradiso',\n",
              " ' The Intouchables']"
            ]
          },
          "metadata": {},
          "execution_count": 35
        }
      ]
    },
    {
      "cell_type": "markdown",
      "source": [
        "### Create dataframe"
      ],
      "metadata": {
        "id": "uoD6MAKEN7P9"
      }
    },
    {
      "cell_type": "code",
      "source": [
        "# import pandas\n",
        "import pandas as pd"
      ],
      "metadata": {
        "id": "OQHN7kl2N9z2"
      },
      "execution_count": null,
      "outputs": []
    },
    {
      "cell_type": "code",
      "source": [
        "# create dataframe\n",
        "movie_database = pd.DataFrame(data = {\n",
        "    \"title\": clean_titles2,\n",
        "    \"rating\": clean_ratings,\n",
        "    \"years\": clean_years\n",
        "})"
      ],
      "metadata": {
        "id": "Jn5MgM8oOGzk"
      },
      "execution_count": null,
      "outputs": []
    },
    {
      "cell_type": "code",
      "source": [
        "# print first five rows\n",
        "movie_database.head()"
      ],
      "metadata": {
        "id": "poFDz5lEOV3c",
        "outputId": "205db7a8-04ba-40d3-a698-4f20059656cb",
        "colab": {
          "base_uri": "https://localhost:8080/",
          "height": 206
        }
      },
      "execution_count": null,
      "outputs": [
        {
          "output_type": "execute_result",
          "data": {
            "text/plain": [
              "                                           title  rating years\n",
              "0                       The Shawshank Redemption     9.3  1994\n",
              "1                                  The Godfather     9.2  1972\n",
              "2                                The Dark Knight     9.0  2008\n",
              "3                               Schindler's List     9.0  1993\n",
              "4  The Lord of the Rings: The Return of the King     9.0  2003"
            ],
            "text/html": [
              "\n",
              "  <div id=\"df-03da0c96-c3d2-4194-b20f-2bb99512bd4d\" class=\"colab-df-container\">\n",
              "    <div>\n",
              "<style scoped>\n",
              "    .dataframe tbody tr th:only-of-type {\n",
              "        vertical-align: middle;\n",
              "    }\n",
              "\n",
              "    .dataframe tbody tr th {\n",
              "        vertical-align: top;\n",
              "    }\n",
              "\n",
              "    .dataframe thead th {\n",
              "        text-align: right;\n",
              "    }\n",
              "</style>\n",
              "<table border=\"1\" class=\"dataframe\">\n",
              "  <thead>\n",
              "    <tr style=\"text-align: right;\">\n",
              "      <th></th>\n",
              "      <th>title</th>\n",
              "      <th>rating</th>\n",
              "      <th>years</th>\n",
              "    </tr>\n",
              "  </thead>\n",
              "  <tbody>\n",
              "    <tr>\n",
              "      <th>0</th>\n",
              "      <td>The Shawshank Redemption</td>\n",
              "      <td>9.3</td>\n",
              "      <td>1994</td>\n",
              "    </tr>\n",
              "    <tr>\n",
              "      <th>1</th>\n",
              "      <td>The Godfather</td>\n",
              "      <td>9.2</td>\n",
              "      <td>1972</td>\n",
              "    </tr>\n",
              "    <tr>\n",
              "      <th>2</th>\n",
              "      <td>The Dark Knight</td>\n",
              "      <td>9.0</td>\n",
              "      <td>2008</td>\n",
              "    </tr>\n",
              "    <tr>\n",
              "      <th>3</th>\n",
              "      <td>Schindler's List</td>\n",
              "      <td>9.0</td>\n",
              "      <td>1993</td>\n",
              "    </tr>\n",
              "    <tr>\n",
              "      <th>4</th>\n",
              "      <td>The Lord of the Rings: The Return of the King</td>\n",
              "      <td>9.0</td>\n",
              "      <td>2003</td>\n",
              "    </tr>\n",
              "  </tbody>\n",
              "</table>\n",
              "</div>\n",
              "    <div class=\"colab-df-buttons\">\n",
              "\n",
              "  <div class=\"colab-df-container\">\n",
              "    <button class=\"colab-df-convert\" onclick=\"convertToInteractive('df-03da0c96-c3d2-4194-b20f-2bb99512bd4d')\"\n",
              "            title=\"Convert this dataframe to an interactive table.\"\n",
              "            style=\"display:none;\">\n",
              "\n",
              "  <svg xmlns=\"http://www.w3.org/2000/svg\" height=\"24px\" viewBox=\"0 -960 960 960\">\n",
              "    <path d=\"M120-120v-720h720v720H120Zm60-500h600v-160H180v160Zm220 220h160v-160H400v160Zm0 220h160v-160H400v160ZM180-400h160v-160H180v160Zm440 0h160v-160H620v160ZM180-180h160v-160H180v160Zm440 0h160v-160H620v160Z\"/>\n",
              "  </svg>\n",
              "    </button>\n",
              "\n",
              "  <style>\n",
              "    .colab-df-container {\n",
              "      display:flex;\n",
              "      gap: 12px;\n",
              "    }\n",
              "\n",
              "    .colab-df-convert {\n",
              "      background-color: #E8F0FE;\n",
              "      border: none;\n",
              "      border-radius: 50%;\n",
              "      cursor: pointer;\n",
              "      display: none;\n",
              "      fill: #1967D2;\n",
              "      height: 32px;\n",
              "      padding: 0 0 0 0;\n",
              "      width: 32px;\n",
              "    }\n",
              "\n",
              "    .colab-df-convert:hover {\n",
              "      background-color: #E2EBFA;\n",
              "      box-shadow: 0px 1px 2px rgba(60, 64, 67, 0.3), 0px 1px 3px 1px rgba(60, 64, 67, 0.15);\n",
              "      fill: #174EA6;\n",
              "    }\n",
              "\n",
              "    .colab-df-buttons div {\n",
              "      margin-bottom: 4px;\n",
              "    }\n",
              "\n",
              "    [theme=dark] .colab-df-convert {\n",
              "      background-color: #3B4455;\n",
              "      fill: #D2E3FC;\n",
              "    }\n",
              "\n",
              "    [theme=dark] .colab-df-convert:hover {\n",
              "      background-color: #434B5C;\n",
              "      box-shadow: 0px 1px 3px 1px rgba(0, 0, 0, 0.15);\n",
              "      filter: drop-shadow(0px 1px 2px rgba(0, 0, 0, 0.3));\n",
              "      fill: #FFFFFF;\n",
              "    }\n",
              "  </style>\n",
              "\n",
              "    <script>\n",
              "      const buttonEl =\n",
              "        document.querySelector('#df-03da0c96-c3d2-4194-b20f-2bb99512bd4d button.colab-df-convert');\n",
              "      buttonEl.style.display =\n",
              "        google.colab.kernel.accessAllowed ? 'block' : 'none';\n",
              "\n",
              "      async function convertToInteractive(key) {\n",
              "        const element = document.querySelector('#df-03da0c96-c3d2-4194-b20f-2bb99512bd4d');\n",
              "        const dataTable =\n",
              "          await google.colab.kernel.invokeFunction('convertToInteractive',\n",
              "                                                    [key], {});\n",
              "        if (!dataTable) return;\n",
              "\n",
              "        const docLinkHtml = 'Like what you see? Visit the ' +\n",
              "          '<a target=\"_blank\" href=https://colab.research.google.com/notebooks/data_table.ipynb>data table notebook</a>'\n",
              "          + ' to learn more about interactive tables.';\n",
              "        element.innerHTML = '';\n",
              "        dataTable['output_type'] = 'display_data';\n",
              "        await google.colab.output.renderOutput(dataTable, element);\n",
              "        const docLink = document.createElement('div');\n",
              "        docLink.innerHTML = docLinkHtml;\n",
              "        element.appendChild(docLink);\n",
              "      }\n",
              "    </script>\n",
              "  </div>\n",
              "\n",
              "\n",
              "<div id=\"df-0f6649d0-183b-416e-b647-811270b44e71\">\n",
              "  <button class=\"colab-df-quickchart\" onclick=\"quickchart('df-0f6649d0-183b-416e-b647-811270b44e71')\"\n",
              "            title=\"Suggest charts.\"\n",
              "            style=\"display:none;\">\n",
              "\n",
              "<svg xmlns=\"http://www.w3.org/2000/svg\" height=\"24px\"viewBox=\"0 0 24 24\"\n",
              "     width=\"24px\">\n",
              "    <g>\n",
              "        <path d=\"M19 3H5c-1.1 0-2 .9-2 2v14c0 1.1.9 2 2 2h14c1.1 0 2-.9 2-2V5c0-1.1-.9-2-2-2zM9 17H7v-7h2v7zm4 0h-2V7h2v10zm4 0h-2v-4h2v4z\"/>\n",
              "    </g>\n",
              "</svg>\n",
              "  </button>\n",
              "\n",
              "<style>\n",
              "  .colab-df-quickchart {\n",
              "      --bg-color: #E8F0FE;\n",
              "      --fill-color: #1967D2;\n",
              "      --hover-bg-color: #E2EBFA;\n",
              "      --hover-fill-color: #174EA6;\n",
              "      --disabled-fill-color: #AAA;\n",
              "      --disabled-bg-color: #DDD;\n",
              "  }\n",
              "\n",
              "  [theme=dark] .colab-df-quickchart {\n",
              "      --bg-color: #3B4455;\n",
              "      --fill-color: #D2E3FC;\n",
              "      --hover-bg-color: #434B5C;\n",
              "      --hover-fill-color: #FFFFFF;\n",
              "      --disabled-bg-color: #3B4455;\n",
              "      --disabled-fill-color: #666;\n",
              "  }\n",
              "\n",
              "  .colab-df-quickchart {\n",
              "    background-color: var(--bg-color);\n",
              "    border: none;\n",
              "    border-radius: 50%;\n",
              "    cursor: pointer;\n",
              "    display: none;\n",
              "    fill: var(--fill-color);\n",
              "    height: 32px;\n",
              "    padding: 0;\n",
              "    width: 32px;\n",
              "  }\n",
              "\n",
              "  .colab-df-quickchart:hover {\n",
              "    background-color: var(--hover-bg-color);\n",
              "    box-shadow: 0 1px 2px rgba(60, 64, 67, 0.3), 0 1px 3px 1px rgba(60, 64, 67, 0.15);\n",
              "    fill: var(--button-hover-fill-color);\n",
              "  }\n",
              "\n",
              "  .colab-df-quickchart-complete:disabled,\n",
              "  .colab-df-quickchart-complete:disabled:hover {\n",
              "    background-color: var(--disabled-bg-color);\n",
              "    fill: var(--disabled-fill-color);\n",
              "    box-shadow: none;\n",
              "  }\n",
              "\n",
              "  .colab-df-spinner {\n",
              "    border: 2px solid var(--fill-color);\n",
              "    border-color: transparent;\n",
              "    border-bottom-color: var(--fill-color);\n",
              "    animation:\n",
              "      spin 1s steps(1) infinite;\n",
              "  }\n",
              "\n",
              "  @keyframes spin {\n",
              "    0% {\n",
              "      border-color: transparent;\n",
              "      border-bottom-color: var(--fill-color);\n",
              "      border-left-color: var(--fill-color);\n",
              "    }\n",
              "    20% {\n",
              "      border-color: transparent;\n",
              "      border-left-color: var(--fill-color);\n",
              "      border-top-color: var(--fill-color);\n",
              "    }\n",
              "    30% {\n",
              "      border-color: transparent;\n",
              "      border-left-color: var(--fill-color);\n",
              "      border-top-color: var(--fill-color);\n",
              "      border-right-color: var(--fill-color);\n",
              "    }\n",
              "    40% {\n",
              "      border-color: transparent;\n",
              "      border-right-color: var(--fill-color);\n",
              "      border-top-color: var(--fill-color);\n",
              "    }\n",
              "    60% {\n",
              "      border-color: transparent;\n",
              "      border-right-color: var(--fill-color);\n",
              "    }\n",
              "    80% {\n",
              "      border-color: transparent;\n",
              "      border-right-color: var(--fill-color);\n",
              "      border-bottom-color: var(--fill-color);\n",
              "    }\n",
              "    90% {\n",
              "      border-color: transparent;\n",
              "      border-bottom-color: var(--fill-color);\n",
              "    }\n",
              "  }\n",
              "</style>\n",
              "\n",
              "  <script>\n",
              "    async function quickchart(key) {\n",
              "      const quickchartButtonEl =\n",
              "        document.querySelector('#' + key + ' button');\n",
              "      quickchartButtonEl.disabled = true;  // To prevent multiple clicks.\n",
              "      quickchartButtonEl.classList.add('colab-df-spinner');\n",
              "      try {\n",
              "        const charts = await google.colab.kernel.invokeFunction(\n",
              "            'suggestCharts', [key], {});\n",
              "      } catch (error) {\n",
              "        console.error('Error during call to suggestCharts:', error);\n",
              "      }\n",
              "      quickchartButtonEl.classList.remove('colab-df-spinner');\n",
              "      quickchartButtonEl.classList.add('colab-df-quickchart-complete');\n",
              "    }\n",
              "    (() => {\n",
              "      let quickchartButtonEl =\n",
              "        document.querySelector('#df-0f6649d0-183b-416e-b647-811270b44e71 button');\n",
              "      quickchartButtonEl.style.display =\n",
              "        google.colab.kernel.accessAllowed ? 'block' : 'none';\n",
              "    })();\n",
              "  </script>\n",
              "</div>\n",
              "    </div>\n",
              "  </div>\n"
            ]
          },
          "metadata": {},
          "execution_count": 38
        }
      ]
    }
  ],
  "metadata": {
    "colab": {
      "provenance": [],
      "authorship_tag": "ABX9TyP7spmymtW0o6URdeEV/t8C",
      "include_colab_link": true
    },
    "kernelspec": {
      "display_name": "Python 3",
      "name": "python3"
    },
    "language_info": {
      "name": "python"
    }
  },
  "nbformat": 4,
  "nbformat_minor": 0
}
