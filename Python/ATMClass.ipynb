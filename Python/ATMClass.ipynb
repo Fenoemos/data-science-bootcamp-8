{
  "nbformat": 4,
  "nbformat_minor": 0,
  "metadata": {
    "colab": {
      "provenance": [],
      "authorship_tag": "ABX9TyPp6pYTtkxBY78Aw3qqMoe+",
      "include_colab_link": true
    },
    "kernelspec": {
      "name": "python3",
      "display_name": "Python 3"
    },
    "language_info": {
      "name": "python"
    }
  },
  "cells": [
    {
      "cell_type": "markdown",
      "metadata": {
        "id": "view-in-github",
        "colab_type": "text"
      },
      "source": [
        "<a href=\"https://colab.research.google.com/github/Fenoemos/data-science-bootcamp-8/blob/main/ATMClass.ipynb\" target=\"_parent\"><img src=\"https://colab.research.google.com/assets/colab-badge.svg\" alt=\"Open In Colab\"/></a>"
      ]
    },
    {
      "cell_type": "markdown",
      "source": [
        "# Bank_Account class [for ATM] with 5 methods"
      ],
      "metadata": {
        "id": "XVJH70i_KjLo"
      }
    },
    {
      "cell_type": "code",
      "execution_count": 16,
      "metadata": {
        "id": "alKLejcmKiYb"
      },
      "outputs": [],
      "source": [
        "class Bank_Account:\n",
        "    # initialize\n",
        "    def __init__(self, bankaccount_number, pin, balance):\n",
        "        self.bankaccount_number = str(bankaccount_number)\n",
        "        self.pin = int(pin)\n",
        "        self.balance = float(balance)\n",
        "\n",
        "    # Atm methods (aka functions)\n",
        "    def check_balance(self):\n",
        "        print(f\"Your balance is '{self.balance}' CAD.\")\n",
        "\n",
        "    def withdraw_cash(self, atm_bank, pin, withdraw_amount): # atm_bank means that whom is the owner of ATM, if your financial organization is not the same as bank_name, fee will be applied.\n",
        "        while pin != self.pin:\n",
        "            pin = int(input(\"your put the wrong pin, try again\\n\"))\n",
        "        while atm_bank.lower() == self.bankaccount_number[:2].lower():\n",
        "            if withdraw_amount <= self.balance:\n",
        "               self.balance -= withdraw_amount\n",
        "               print(f\"You withdraw '{withdraw_amount}' CAD from account number '{self.bankaccount_number[2:]}', your balance now is '{self.balance}' CAD.\")\n",
        "               print(f\"Thank you for chosing '{atm_bank}' ATM.\")\n",
        "               break\n",
        "            else:\n",
        "               withdraw_amount = float(input(\"Your balance is not enough to complete your request, please enter amount again: \\n\"))\n",
        "        while atm_bank.lower() != self.bankaccount_number[:2].lower():\n",
        "            if withdraw_amount <= self.balance:\n",
        "               self.balance -= withdraw_amount\n",
        "               self.balance -= 3.5 # fix rate\n",
        "               print(f\"You withdraw '{withdraw_amount}' CAD from account number '{self.bankaccount_number[2:]}', there is fee 3.5 CAD to withdraw your money.\")\n",
        "               print(f\"Your balance now is '{self.balance}' CAD, thank you for chosing '{atm_bank}' ATM.\")\n",
        "               break\n",
        "            else:\n",
        "               withdraw_amount = float(input(\"Your balance is not enough to complete your request, please enter amount again: \\n\"))\n",
        "\n",
        "    def deposit_cash(self, pin, deposit_amount):\n",
        "        while pin != self.pin:\n",
        "            pin = int(input(\"your put the wrong pin, try again\\n\"))\n",
        "        self.balance += deposit_amount\n",
        "        print(f\"You deposit '{deposit_amount}' CAD to '{self.bankaccount_number[:2]}' bank with account number '{self.bankaccount_number[2:]}', your balance now is '{self.balance}' CAD\")\n",
        "\n",
        "    def change_pin(self, pin):\n",
        "        while pin != self.pin:\n",
        "            pin = int(input(\"your put the wrong pin, try again\\n\"))\n",
        "        self.pin = int(input(\"What is your new pin?\\n\"))\n",
        "        print(\"Your PIN has been changed successfully.\")\n",
        "\n",
        "    def transfer_money(self, pin, received_account, transfer_amount):\n",
        "        while pin != self.pin:\n",
        "            pin = int(input(\"your put the wrong pin, try again\\n\"))\n",
        "        while transfer_amount > self.balance:\n",
        "            transfer_amount = float(input(\"Your balance is not enough to complete your request, please enter amount again: \\n\"))\n",
        "        received_account.balance += transfer_amount\n",
        "        self.balance -= transfer_amount\n",
        "        print(f\"You transfer '{transfer_amount}' CAD from '{self.bankaccount_number}' to '{received_account.bankaccount_number}'\")\n",
        "        print(\"Your transction is now complete\")\n",
        ""
      ]
    },
    {
      "cell_type": "code",
      "source": [
        "# Set an account\n",
        "myaccount = Bank_Account(\"ON123\", 3793, 50000)\n",
        "otheraccount = Bank_Account(\"BC321\", 1515, 20000)\n",
        "mysecondaccount = Bank_Account(\"ON555\", 1111, 50000)"
      ],
      "metadata": {
        "id": "7DKAStXOMIaW"
      },
      "execution_count": 19,
      "outputs": []
    },
    {
      "cell_type": "code",
      "source": [
        "# Try to withdraw my money\n",
        "myaccount.withdraw_cash(\"BC\", 3793, 70000)"
      ],
      "metadata": {
        "colab": {
          "base_uri": "https://localhost:8080/"
        },
        "id": "745m6A1aMPjD",
        "outputId": "c197e1e5-3e4c-4c38-a645-8f5eaf1b9772"
      },
      "execution_count": 20,
      "outputs": [
        {
          "output_type": "stream",
          "name": "stdout",
          "text": [
            "Your balance is not enough to complete your request, please enter amount again: \n",
            "20000\n",
            "You withdraw '20000.0' CAD from account number '123', there is fee 3.5 CAD to withdraw your money.\n",
            "Your balance now is '29996.5' CAD, thank you for chosing 'BC' ATM.\n"
          ]
        }
      ]
    },
    {
      "cell_type": "code",
      "source": [
        "# Check myaccount balance\n",
        "myaccount.check_balance()"
      ],
      "metadata": {
        "colab": {
          "base_uri": "https://localhost:8080/"
        },
        "id": "792VPCF66Rf_",
        "outputId": "e8da9b8a-18fb-49bc-b3a7-1de318d7ff35"
      },
      "execution_count": 21,
      "outputs": [
        {
          "output_type": "stream",
          "name": "stdout",
          "text": [
            "Your balance is '29996.5' CAD.\n"
          ]
        }
      ]
    },
    {
      "cell_type": "code",
      "source": [
        "# Deposit to my secondaccount\n",
        "mysecondaccount.deposit_cash(3793, 12345)"
      ],
      "metadata": {
        "colab": {
          "base_uri": "https://localhost:8080/"
        },
        "id": "8U8uVckv8jYu",
        "outputId": "e244a6ea-4f38-4612-828a-951fe1523c2e"
      },
      "execution_count": 23,
      "outputs": [
        {
          "output_type": "stream",
          "name": "stdout",
          "text": [
            "your put the wrong pin, try again\n",
            "1111\n",
            "You deposit '12345' CAD to 'ON' bank with account number '555', your balance now is '62345.0' CAD\n"
          ]
        }
      ]
    },
    {
      "cell_type": "code",
      "source": [
        "# Change myaccount pin from 3793 to 9999, but first put the wrong pin\n",
        "myaccount.change_pin(1515)"
      ],
      "metadata": {
        "colab": {
          "base_uri": "https://localhost:8080/"
        },
        "id": "yMtW62RA9ky2",
        "outputId": "3fd5ac27-d82b-43bc-9a4f-f8e31cdd53dd"
      },
      "execution_count": 24,
      "outputs": [
        {
          "output_type": "stream",
          "name": "stdout",
          "text": [
            "your put the wrong pin, try again\n",
            "3793\n",
            "What is your new pin?\n",
            "9999\n",
            "Your PIN has been changed successfully.\n"
          ]
        }
      ]
    },
    {
      "cell_type": "code",
      "source": [
        "# Transfer money from myaccount to mysecondaccount\n",
        "myaccount.transfer_money(9999, mysecondaccount, 20000)"
      ],
      "metadata": {
        "colab": {
          "base_uri": "https://localhost:8080/"
        },
        "id": "QB6EbncL9EB7",
        "outputId": "d8a5de86-22c6-447e-a0ee-3eecab121bf9"
      },
      "execution_count": 25,
      "outputs": [
        {
          "output_type": "stream",
          "name": "stdout",
          "text": [
            "You transfer '20000' CAD from ON123 to ON555\n",
            "Your transction is now complete\n"
          ]
        }
      ]
    },
    {
      "cell_type": "code",
      "source": [
        "# Check money in both account\n",
        "myaccount.check_balance()\n",
        "mysecondaccount.check_balance()"
      ],
      "metadata": {
        "colab": {
          "base_uri": "https://localhost:8080/"
        },
        "id": "Cq1DBnFP_d4M",
        "outputId": "1b984d25-31b8-499f-e436-dde9b71ccb0c"
      },
      "execution_count": 26,
      "outputs": [
        {
          "output_type": "stream",
          "name": "stdout",
          "text": [
            "Your balance is '9996.5' CAD.\n",
            "Your balance is '82345.0' CAD.\n"
          ]
        }
      ]
    }
  ]
}
